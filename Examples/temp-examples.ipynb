{
 "cells": [
  {
   "cell_type": "code",
   "execution_count": 8,
   "metadata": {},
   "outputs": [
    {
     "name": "stdout",
     "output_type": "stream",
     "text": [
      "The autoreload extension is already loaded. To reload it, use:\n",
      "  %reload_ext autoreload\n"
     ]
    }
   ],
   "source": [
    "%load_ext autoreload\n",
    "%autoreload 2\n",
    "\n",
    "import mechDraw.Shapes as md\n",
    "import numpy as np\n",
    "import matplotlib.pyplot as plt\n",
    "import mechDraw.Styles\n",
    "from mechDraw.Styles import Pamplemousse as pa"
   ]
  },
  {
   "cell_type": "code",
   "execution_count": 21,
   "metadata": {},
   "outputs": [
    {
     "name": "stdout",
     "output_type": "stream",
     "text": [
      "Processing /Users/brian/Desktop/git/mechDraw\n",
      "  Installing build dependencies: started\n",
      "  Installing build dependencies: finished with status 'done'\n",
      "  Getting requirements to build wheel: started\n",
      "  Getting requirements to build wheel: finished with status 'done'\n",
      "    Preparing wheel metadata: started\n",
      "    Preparing wheel metadata: finished with status 'done'\n",
      "Building wheels for collected packages: mechDraw\n",
      "  Building wheel for mechDraw (PEP 517): started\n",
      "  Building wheel for mechDraw (PEP 517): finished with status 'done'\n",
      "  Stored in directory: /private/var/folders/sv/vpqklyq56_z6s7qsxd1wdv7r0000gn/T/pip-ephem-wheel-cache-sjg3rxux/wheels/86/4b/41/2d3b93772e8ce95b1bc9388f81549789f895fad52fe349fa3b\n",
      "Successfully built mechDraw\n",
      "Installing collected packages: mechDraw\n",
      "  Found existing installation: mechDraw 0.1\n",
      "    Uninstalling mechDraw-0.1:\n",
      "      Successfully uninstalled mechDraw-0.1\n",
      "Successfully installed mechDraw-0.1\n"
     ]
    }
   ],
   "source": [
    "%%script bash\n",
    "cd ..\n",
    "pip3 install ."
   ]
  },
  {
   "cell_type": "code",
   "execution_count": 22,
   "metadata": {},
   "outputs": [],
   "source": [
    "pt0 = md.Point(0, 0)\n",
    "pt1 = md.Point(1.5, 1.5)\n",
    "pt2 = md.Point(2, 0)\n",
    "pt3 = md.Point(1.5, -1.5)\n",
    "\n",
    "ln0 = md.Line(pt0, pt2)\n",
    "ln1 = md.Line(pt0, pt1)\n",
    "ln2 = md.Line(pt0, pt3)\n",
    "ar1 = md.Arc(pt0, 1.5, 0, np.pi/4)\n",
    "ar2 = md.Arc(pt0, 1.5, -np.pi/4, 0)"
   ]
  },
  {
   "cell_type": "code",
   "execution_count": 23,
   "metadata": {},
   "outputs": [
    {
     "data": {
      "image/png": "[encoded data removed]",
      "text/plain": [
       "<Figure size 432x288 with 1 Axes>"
      ]
     },
     "metadata": {
      "needs_background": "light"
     },
     "output_type": "display_data"
    }
   ],
   "source": [
    "md.Canvas()\n",
    "\n",
    "md.Circle(pt0, 1).plot(lw=3, fill=True)\n",
    "\n",
    "ln0.plot(lw=2, ls='--', color=pa.darkPink)\n",
    "ln1.plot(lw=2, ls='-', color=pa.darkBlue)\n",
    "ln2.plot(lw=2, ls='-')\n",
    "\n",
    "ar1.plot(arrow='->', ls='--')\n",
    "ar2.plot(arrow='<-', ls='--')\n",
    "\n",
    "pt0.plot(); pt1.plot(); pt2.plot()\n"
   ]
  },
  {
   "cell_type": "markdown",
   "metadata": {},
   "source": [
    "Possible Line Style options\n",
    "* https://matplotlib.org/2.1.2/api/_as_gen/matplotlib.pyplot.plot.html"
   ]
  },
  {
   "cell_type": "code",
   "execution_count": 24,
   "metadata": {},
   "outputs": [
    {
     "data": {
      "image/png": "[encoded data removed]",
      "text/plain": [
       "<Figure size 432x288 with 1 Axes>"
      ]
     },
     "metadata": {
      "needs_background": "light"
     },
     "output_type": "display_data"
    }
   ],
   "source": [
    "md.Canvas()\n",
    "grid = md.Grid(pt0, pt1, 5)\n",
    "grid.plot(lw=3, ls='--')"
   ]
  },
  {
   "cell_type": "code",
   "execution_count": 25,
   "metadata": {},
   "outputs": [
    {
     "data": {
      "image/png": "[encoded data removed]",
      "text/plain": [
       "<Figure size 432x288 with 1 Axes>"
      ]
     },
     "metadata": {
      "needs_background": "light"
     },
     "output_type": "display_data"
    }
   ],
   "source": [
    "md.Canvas()\n",
    "Ibeam = md.IBeam(1, 1, 0.1, 0.1, center=md.Point(1, 1))\n",
    "Ibeam.plot(showPoints=True, fillColor=pa.yellow)"
   ]
  },
  {
   "cell_type": "code",
   "execution_count": null,
   "metadata": {},
   "outputs": [],
   "source": []
  },
  {
   "cell_type": "code",
   "execution_count": null,
   "metadata": {},
   "outputs": [],
   "source": []
  },
  {
   "cell_type": "code",
   "execution_count": null,
   "metadata": {},
   "outputs": [],
   "source": []
  }
 ],
 "metadata": {
  "kernelspec": {
   "display_name": "Python 3",
   "language": "python",
   "name": "python3"
  },
  "language_info": {
   "codemirror_mode": {
    "name": "ipython",
    "version": 3
   },
   "file_extension": ".py",
   "mimetype": "text/x-python",
   "name": "python",
   "nbconvert_exporter": "python",
   "pygments_lexer": "ipython3",
   "version": "3.7.3"
  }
 },
 "nbformat": 4,
 "nbformat_minor": 4
}
