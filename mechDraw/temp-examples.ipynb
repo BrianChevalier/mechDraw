{
 "cells": [
  {
   "cell_type": "code",
   "execution_count": null,
   "metadata": {},
   "outputs": [],
   "source": [
    "%load_ext autoreload\n",
    "%autoreload 2\n",
    "\n",
    "import Shapes as md\n",
    "import numpy as np\n",
    "import matplotlib.pyplot as plt\n",
    "import Styles\n",
    "from Styles import Pamplemousse as pa"
   ]
  },
  {
   "cell_type": "code",
   "execution_count": null,
   "metadata": {},
   "outputs": [],
   "source": [
    "pt0 = md.Point(0, 0)\n",
    "pt1 = md.Point(1.5, 1.5)\n",
    "pt2 = md.Point(2, 0)\n",
    "pt3 = md.Point(1.5, -1.5)\n",
    "\n",
    "ln0 = md.Line(pt0, pt2)\n",
    "ln1 = md.Line(pt0, pt1)\n",
    "ln2 = md.Line(pt0, pt3)\n",
    "ar1 = md.Arc(pt0, 1.5, 0, np.pi/4)\n",
    "ar2 = md.Arc(pt0, 1.5, -np.pi/4, 0)"
   ]
  },
  {
   "cell_type": "code",
   "execution_count": null,
   "metadata": {},
   "outputs": [],
   "source": [
    "md.Canvas()\n",
    "\n",
    "md.Circle(pt0, 1).plot(lw=3, fill=True)\n",
    "\n",
    "ln0.plot(lw=2, ls='--', color=pa.darkPink)\n",
    "ln1.plot(lw=2, ls='-', color=pa.darkBlue)\n",
    "ln2.plot(lw=2, ls='-')\n",
    "\n",
    "ar1.plot(arrow='->', ls='--')\n",
    "ar2.plot(arrow='<-', ls='--')\n",
    "\n",
    "pt0.plot(); pt1.plot(); pt2.plot()\n"
   ]
  },
  {
   "cell_type": "markdown",
   "metadata": {},
   "source": [
    "Possible Line Style options\n",
    "* https://matplotlib.org/2.1.2/api/_as_gen/matplotlib.pyplot.plot.html"
   ]
  },
  {
   "cell_type": "code",
   "execution_count": null,
   "metadata": {},
   "outputs": [],
   "source": [
    "md.Canvas()\n",
    "grid = md.Grid(pt0, pt1, 5)\n",
    "grid.plot(lw=3, ls='--')"
   ]
  },
  {
   "cell_type": "code",
   "execution_count": null,
   "metadata": {},
   "outputs": [],
   "source": [
    "md.Canvas()\n",
    "Ibeam = md.IBeam(1, 1, 0.1, 0.1, center=md.Point(1, 1))\n",
    "Ibeam.plot(showPoints=True, fillColor=pa.yellow)"
   ]
  },
  {
   "cell_type": "code",
   "execution_count": null,
   "metadata": {},
   "outputs": [],
   "source": []
  },
  {
   "cell_type": "code",
   "execution_count": null,
   "metadata": {},
   "outputs": [],
   "source": []
  },
  {
   "cell_type": "code",
   "execution_count": null,
   "metadata": {},
   "outputs": [],
   "source": []
  }
 ],
 "metadata": {
  "kernelspec": {
   "display_name": "Python 3",
   "language": "python",
   "name": "python3"
  },
  "language_info": {
   "codemirror_mode": {
    "name": "ipython",
    "version": 3
   },
   "file_extension": ".py",
   "mimetype": "text/x-python",
   "name": "python",
   "nbconvert_exporter": "python",
   "pygments_lexer": "ipython3",
   "version": "3.7.3"
  }
 },
 "nbformat": 4,
 "nbformat_minor": 4
}
